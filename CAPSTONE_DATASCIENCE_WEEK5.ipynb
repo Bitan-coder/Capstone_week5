{
    "cells": [
        {
            "cell_type": "code",
            "execution_count": 49,
            "metadata": {},
            "outputs": [
                {
                    "name": "stdout",
                    "output_type": "stream",
                    "text": "Solving environment: done\n\n# All requested packages already installed.\n\nSolving environment: done\n\n## Package Plan ##\n\n  environment location: /opt/conda/envs/Python36\n\n  added / updated specs: \n    - folium=0.5.0\n\n\nThe following packages will be downloaded:\n\n    package                    |            build\n    ---------------------------|-----------------\n    vincent-0.4.4              |             py_1          28 KB  conda-forge\n    altair-4.1.0               |             py_1         614 KB  conda-forge\n    branca-0.4.0               |             py_0          26 KB  conda-forge\n    folium-0.5.0               |             py_0          45 KB  conda-forge\n    ------------------------------------------------------------\n                                           Total:         713 KB\n\nThe following NEW packages will be INSTALLED:\n\n    altair:  4.1.0-py_1 conda-forge\n    branca:  0.4.0-py_0 conda-forge\n    folium:  0.5.0-py_0 conda-forge\n    vincent: 0.4.4-py_1 conda-forge\n\n\nDownloading and Extracting Packages\nvincent-0.4.4        | 28 KB     | ##################################### | 100% \naltair-4.1.0         | 614 KB    | ##################################### | 100% \nbranca-0.4.0         | 26 KB     | ##################################### | 100% \nfolium-0.5.0         | 45 KB     | ##################################### | 100% \nPreparing transaction: done\nVerifying transaction: done\nExecuting transaction: done\nLibraries imported.\n"
                }
            ],
            "source": "import numpy as np # library to handle data in a vectorized manner\n\nimport pandas as pd # library for data analsysis\npd.set_option(\"display.max_columns\", None)\npd.set_option(\"display.max_rows\", None)\n\nimport json # library to handle JSON files\n\n!conda install -c conda-forge geopy --yes # uncomment this line if you haven't completed the Foursquare API lab\nfrom geopy.geocoders import Nominatim # convert an address into latitude and longitude values\n\nimport requests # library to handle requests\nfrom bs4 import BeautifulSoup # library to parse HTML and XML documents\n\nfrom pandas.io.json import json_normalize # tranform JSON file into a pandas dataframe\n\n# Matplotlib and associated plotting modules\nimport matplotlib.cm as cm\nimport matplotlib.colors as colors\n\n# import k-means from clustering stage\nfrom sklearn.cluster import KMeans\n\n!conda install -c conda-forge folium=0.5.0 --yes # uncomment this line if you haven't completed the Foursquare API lab\nimport folium # map rendering library\n\nprint(\"Libraries imported.\")"
        },
        {
            "cell_type": "code",
            "execution_count": 50,
            "metadata": {},
            "outputs": [],
            "source": "# send the GET request\ndata = requests.get(\"https://en.wikipedia.org/wiki/Category:Suburbs_in_Kuala_Lumpur\").text"
        },
        {
            "cell_type": "code",
            "execution_count": 51,
            "metadata": {},
            "outputs": [],
            "source": "# parse data from the html into a beautifulsoup object\nsoup = BeautifulSoup(data, 'html.parser')"
        },
        {
            "cell_type": "code",
            "execution_count": 52,
            "metadata": {},
            "outputs": [],
            "source": "# create a list to store neighborhood data\nneighborhoodList = []"
        },
        {
            "cell_type": "code",
            "execution_count": 53,
            "metadata": {},
            "outputs": [],
            "source": "# append the data into the list\nfor row in soup.find_all(\"div\", class_=\"mw-category\")[0].findAll(\"li\"):\n    neighborhoodList.append(row.text)"
        },
        {
            "cell_type": "code",
            "execution_count": 54,
            "metadata": {},
            "outputs": [
                {
                    "data": {
                        "text/html": "<div>\n<style scoped>\n    .dataframe tbody tr th:only-of-type {\n        vertical-align: middle;\n    }\n\n    .dataframe tbody tr th {\n        vertical-align: top;\n    }\n\n    .dataframe thead th {\n        text-align: right;\n    }\n</style>\n<table border=\"1\" class=\"dataframe\">\n  <thead>\n    <tr style=\"text-align: right;\">\n      <th></th>\n      <th>Neighborhood</th>\n    </tr>\n  </thead>\n  <tbody>\n    <tr>\n      <th>0</th>\n      <td>Alam Damai</td>\n    </tr>\n    <tr>\n      <th>1</th>\n      <td>Ampang, Kuala Lumpur</td>\n    </tr>\n    <tr>\n      <th>2</th>\n      <td>Bandar Menjalara</td>\n    </tr>\n    <tr>\n      <th>3</th>\n      <td>Bandar Sri Permaisuri</td>\n    </tr>\n    <tr>\n      <th>4</th>\n      <td>Bandar Tasik Selatan</td>\n    </tr>\n  </tbody>\n</table>\n</div>",
                        "text/plain": "            Neighborhood\n0             Alam Damai\n1   Ampang, Kuala Lumpur\n2       Bandar Menjalara\n3  Bandar Sri Permaisuri\n4   Bandar Tasik Selatan"
                    },
                    "execution_count": 54,
                    "metadata": {},
                    "output_type": "execute_result"
                }
            ],
            "source": "# create a new DataFrame from the list\nkl_df = pd.DataFrame({\"Neighborhood\": neighborhoodList})\n\nkl_df.head()"
        },
        {
            "cell_type": "code",
            "execution_count": 55,
            "metadata": {},
            "outputs": [
                {
                    "data": {
                        "text/plain": "(71, 1)"
                    },
                    "execution_count": 55,
                    "metadata": {},
                    "output_type": "execute_result"
                }
            ],
            "source": "# print the number of rows of the dataframe\nkl_df.shape"
        },
        {
            "cell_type": "markdown",
            "metadata": {},
            "source": "##3. Get the geographical coordinates\n"
        },
        {
            "cell_type": "code",
            "execution_count": 80,
            "metadata": {},
            "outputs": [],
            "source": "# define a function to get coordinates\ndef get_latlng(neighborhood):\n    # initialize your variable to None\n    lat_lng_coords = None\n    # loop until you get the coordinates\n    while(lat_lng_coords is None):\n        g = geocoder.arcgis('{}, Kuala Lumpur, Malaysia'.format(neighborhood))\n        lat_lng_coords = g.latlng\n    return lat_lng_coords"
        },
        {
            "cell_type": "code",
            "execution_count": null,
            "metadata": {},
            "outputs": [],
            "source": "# call the function to get the coordinates, store in a new list using list comprehension\ncoords = [get_latlng(neighborhood) for neighborhood in kl_df[\"Neighborhood\"].tolist()]"
        },
        {
            "cell_type": "markdown",
            "metadata": {},
            "source": "[[3.0576900000000364, 101.74388000000005],\n [3.158092785454847, 101.74870260727259],\n [3.1903500000000236, 101.62545000000006],\n [3.1039100000000417, 101.71226000000007],\n [3.072620000000029, 101.71471000000008],\n [3.08280000000002, 101.72281000000004],\n [3.1292000000000257, 101.67844000000008],\n [3.1347800000000348, 101.67262000000005],\n [3.111020000000053, 101.66283000000004],\n [3.09898000000004, 101.73499000000004],\n [3.09898000000004, 101.73499000000004],\n [3.12916000000007, 101.68406000000004],\n [3.147770000000037, 101.70855000000006],\n [3.057800000000043, 101.68965000000009],\n [3.1434800000000678, 101.64433000000008],\n [3.1520079194122164, 101.70102829894834],\n [3.129290000000026, 101.69892000000004],\n [3.17381000000006, 101.68276000000009],\n [3.061870000000056, 101.74675000000008],\n [3.163590000000056, 101.69811000000004],\n [3.147980000000075, 101.66798000000006],\n [3.1413156714557724, 101.62607997785557],\n [3.1413156714557724, 101.62607997785557],\n [3.155238081462032, 101.70152004297655],\n [3.08331000000004, 101.70438000000007],\n [3.1363700000000563, 101.68564000000003],\n [3.201630000000023, 101.72107000000005],\n [3.132961658243644, 101.72470311855207],\n [3.179388043398946, 101.67745432110556],\n [3.209500000000048, 101.65874000000008],\n [3.165460000000053, 101.71028000000007],\n [3.166400000000067, 101.73046000000005],\n [3.2175000000000296, 101.63763000000006],\n [3.117110000000025, 101.67349000000007],\n [3.0907400000000393, 101.67733000000004],\n [3.121216228040549, 101.66389741147111],"
        },
        {
            "cell_type": "code",
            "execution_count": 58,
            "metadata": {},
            "outputs": [
                {
                    "ename": "NameError",
                    "evalue": "name 'coords' is not defined",
                    "output_type": "error",
                    "traceback": [
                        "\u001b[0;31m---------------------------------------------------------------------------\u001b[0m",
                        "\u001b[0;31mNameError\u001b[0m                                 Traceback (most recent call last)",
                        "\u001b[0;32m<ipython-input-58-e1d5c79a0573>\u001b[0m in \u001b[0;36m<module>\u001b[0;34m\u001b[0m\n\u001b[0;32m----> 1\u001b[0;31m \u001b[0mcoords\u001b[0m\u001b[0;34m\u001b[0m\u001b[0;34m\u001b[0m\u001b[0m\n\u001b[0m",
                        "\u001b[0;31mNameError\u001b[0m: name 'coords' is not defined"
                    ]
                }
            ],
            "source": "coords"
        },
        {
            "cell_type": "code",
            "execution_count": 81,
            "metadata": {},
            "outputs": [
                {
                    "ename": "NameError",
                    "evalue": "name 'coords' is not defined",
                    "output_type": "error",
                    "traceback": [
                        "\u001b[0;31m---------------------------------------------------------------------------\u001b[0m",
                        "\u001b[0;31mNameError\u001b[0m                                 Traceback (most recent call last)",
                        "\u001b[0;32m<ipython-input-81-248299554e81>\u001b[0m in \u001b[0;36m<module>\u001b[0;34m\u001b[0m\n\u001b[1;32m      1\u001b[0m \u001b[0;31m# create temporary dataframe to populate the coordinates into Latitude and Longitude\u001b[0m\u001b[0;34m\u001b[0m\u001b[0;34m\u001b[0m\u001b[0;34m\u001b[0m\u001b[0m\n\u001b[0;32m----> 2\u001b[0;31m \u001b[0mdf_coords\u001b[0m \u001b[0;34m=\u001b[0m \u001b[0mpd\u001b[0m\u001b[0;34m.\u001b[0m\u001b[0mDataFrame\u001b[0m\u001b[0;34m(\u001b[0m\u001b[0mcoords\u001b[0m\u001b[0;34m,\u001b[0m \u001b[0mcolumns\u001b[0m\u001b[0;34m=\u001b[0m\u001b[0;34m[\u001b[0m\u001b[0;34m'Latitude'\u001b[0m\u001b[0;34m,\u001b[0m \u001b[0;34m'Longitude'\u001b[0m\u001b[0;34m]\u001b[0m\u001b[0;34m)\u001b[0m\u001b[0;34m\u001b[0m\u001b[0;34m\u001b[0m\u001b[0m\n\u001b[0m",
                        "\u001b[0;31mNameError\u001b[0m: name 'coords' is not defined"
                    ]
                }
            ],
            "source": "# create temporary dataframe to populate the coordinates into Latitude and Longitude\ndf_coords = pd.DataFrame(coords, columns=['Latitude', 'Longitude'])"
        },
        {
            "cell_type": "code",
            "execution_count": null,
            "metadata": {},
            "outputs": [],
            "source": "# merge the coordinates into the original dataframe\nkl_df['Latitude'] = df_coords['Latitude']\nkl_df['Longitude'] = df_coords['Longitude']"
        },
        {
            "cell_type": "code",
            "execution_count": 60,
            "metadata": {},
            "outputs": [
                {
                    "name": "stdout",
                    "output_type": "stream",
                    "text": "(71, 1)\n"
                },
                {
                    "data": {
                        "text/html": "<div>\n<style scoped>\n    .dataframe tbody tr th:only-of-type {\n        vertical-align: middle;\n    }\n\n    .dataframe tbody tr th {\n        vertical-align: top;\n    }\n\n    .dataframe thead th {\n        text-align: right;\n    }\n</style>\n<table border=\"1\" class=\"dataframe\">\n  <thead>\n    <tr style=\"text-align: right;\">\n      <th></th>\n      <th>Neighborhood</th>\n    </tr>\n  </thead>\n  <tbody>\n    <tr>\n      <th>0</th>\n      <td>Alam Damai</td>\n    </tr>\n    <tr>\n      <th>1</th>\n      <td>Ampang, Kuala Lumpur</td>\n    </tr>\n    <tr>\n      <th>2</th>\n      <td>Bandar Menjalara</td>\n    </tr>\n    <tr>\n      <th>3</th>\n      <td>Bandar Sri Permaisuri</td>\n    </tr>\n    <tr>\n      <th>4</th>\n      <td>Bandar Tasik Selatan</td>\n    </tr>\n    <tr>\n      <th>5</th>\n      <td>Bandar Tun Razak</td>\n    </tr>\n    <tr>\n      <th>6</th>\n      <td>Bangsar</td>\n    </tr>\n    <tr>\n      <th>7</th>\n      <td>Bangsar Park</td>\n    </tr>\n    <tr>\n      <th>8</th>\n      <td>Bangsar South</td>\n    </tr>\n    <tr>\n      <th>9</th>\n      <td>Batu 11 Cheras</td>\n    </tr>\n    <tr>\n      <th>10</th>\n      <td>Batu, Kuala Lumpur</td>\n    </tr>\n    <tr>\n      <th>11</th>\n      <td>Brickfields</td>\n    </tr>\n    <tr>\n      <th>12</th>\n      <td>Bukit Bintang</td>\n    </tr>\n    <tr>\n      <th>13</th>\n      <td>Bukit Jalil</td>\n    </tr>\n    <tr>\n      <th>14</th>\n      <td>Bukit Kiara</td>\n    </tr>\n    <tr>\n      <th>15</th>\n      <td>Bukit Nanas</td>\n    </tr>\n    <tr>\n      <th>16</th>\n      <td>Bukit Petaling</td>\n    </tr>\n    <tr>\n      <th>17</th>\n      <td>Bukit Tunku</td>\n    </tr>\n    <tr>\n      <th>18</th>\n      <td>Cheras, Kuala Lumpur</td>\n    </tr>\n    <tr>\n      <th>19</th>\n      <td>Chow Kit</td>\n    </tr>\n    <tr>\n      <th>20</th>\n      <td>Damansara Heights</td>\n    </tr>\n    <tr>\n      <th>21</th>\n      <td>Damansara Town Centre</td>\n    </tr>\n    <tr>\n      <th>22</th>\n      <td>Damansara, Kuala Lumpur</td>\n    </tr>\n    <tr>\n      <th>23</th>\n      <td>Dang Wangi</td>\n    </tr>\n    <tr>\n      <th>24</th>\n      <td>Desa Petaling</td>\n    </tr>\n    <tr>\n      <th>25</th>\n      <td>Federal Hill, Kuala Lumpur</td>\n    </tr>\n    <tr>\n      <th>26</th>\n      <td>Happy Garden</td>\n    </tr>\n    <tr>\n      <th>27</th>\n      <td>Jalan Cochrane, Kuala Lumpur</td>\n    </tr>\n    <tr>\n      <th>28</th>\n      <td>Jalan Duta</td>\n    </tr>\n    <tr>\n      <th>29</th>\n      <td>Jinjang</td>\n    </tr>\n    <tr>\n      <th>30</th>\n      <td>Kampung Baru, Kuala Lumpur</td>\n    </tr>\n    <tr>\n      <th>31</th>\n      <td>Kampung Datuk Keramat</td>\n    </tr>\n    <tr>\n      <th>32</th>\n      <td>Kampung Padang Balang</td>\n    </tr>\n    <tr>\n      <th>33</th>\n      <td>Kepong</td>\n    </tr>\n    <tr>\n      <th>34</th>\n      <td>KL Eco City</td>\n    </tr>\n    <tr>\n      <th>35</th>\n      <td>Kuchai Lama</td>\n    </tr>\n    <tr>\n      <th>36</th>\n      <td>Lembah Pantai</td>\n    </tr>\n    <tr>\n      <th>37</th>\n      <td>Maluri</td>\n    </tr>\n    <tr>\n      <th>38</th>\n      <td>Medan Tuanku</td>\n    </tr>\n    <tr>\n      <th>39</th>\n      <td>Miharja</td>\n    </tr>\n    <tr>\n      <th>40</th>\n      <td>Mont Kiara</td>\n    </tr>\n    <tr>\n      <th>41</th>\n      <td>Pantai Dalam</td>\n    </tr>\n    <tr>\n      <th>42</th>\n      <td>Pudu, Kuala Lumpur</td>\n    </tr>\n    <tr>\n      <th>43</th>\n      <td>Putrajaya</td>\n    </tr>\n    <tr>\n      <th>44</th>\n      <td>Salak South</td>\n    </tr>\n    <tr>\n      <th>45</th>\n      <td>Segambut</td>\n    </tr>\n    <tr>\n      <th>46</th>\n      <td>Semarak</td>\n    </tr>\n    <tr>\n      <th>47</th>\n      <td>Sentul, Kuala Lumpur</td>\n    </tr>\n    <tr>\n      <th>48</th>\n      <td>Setapak</td>\n    </tr>\n    <tr>\n      <th>49</th>\n      <td>Setiawangsa</td>\n    </tr>\n    <tr>\n      <th>50</th>\n      <td>Shamelin</td>\n    </tr>\n    <tr>\n      <th>51</th>\n      <td>Sri Hartamas</td>\n    </tr>\n    <tr>\n      <th>52</th>\n      <td>Sri Petaling</td>\n    </tr>\n    <tr>\n      <th>53</th>\n      <td>Sungai Besi</td>\n    </tr>\n    <tr>\n      <th>54</th>\n      <td>Taman Bukit Maluri</td>\n    </tr>\n    <tr>\n      <th>55</th>\n      <td>Taman Cheras Hartamas</td>\n    </tr>\n    <tr>\n      <th>56</th>\n      <td>Taman Connaught</td>\n    </tr>\n    <tr>\n      <th>57</th>\n      <td>Taman Desa</td>\n    </tr>\n    <tr>\n      <th>58</th>\n      <td>Taman Ibukota</td>\n    </tr>\n    <tr>\n      <th>59</th>\n      <td>Taman Len Seng</td>\n    </tr>\n    <tr>\n      <th>60</th>\n      <td>Taman Melati</td>\n    </tr>\n    <tr>\n      <th>61</th>\n      <td>Taman Midah</td>\n    </tr>\n    <tr>\n      <th>62</th>\n      <td>Taman OUG</td>\n    </tr>\n    <tr>\n      <th>63</th>\n      <td>Taman P. Ramlee</td>\n    </tr>\n    <tr>\n      <th>64</th>\n      <td>Taman Sri Sinar</td>\n    </tr>\n    <tr>\n      <th>65</th>\n      <td>Taman Taynton View</td>\n    </tr>\n    <tr>\n      <th>66</th>\n      <td>Taman Tun Dr Ismail</td>\n    </tr>\n    <tr>\n      <th>67</th>\n      <td>Taman U-Thant</td>\n    </tr>\n    <tr>\n      <th>68</th>\n      <td>Taman Wahyu</td>\n    </tr>\n    <tr>\n      <th>69</th>\n      <td>Titiwangsa</td>\n    </tr>\n    <tr>\n      <th>70</th>\n      <td>Wangsa Maju</td>\n    </tr>\n  </tbody>\n</table>\n</div>",
                        "text/plain": "                    Neighborhood\n0                     Alam Damai\n1           Ampang, Kuala Lumpur\n2               Bandar Menjalara\n3          Bandar Sri Permaisuri\n4           Bandar Tasik Selatan\n5               Bandar Tun Razak\n6                        Bangsar\n7                   Bangsar Park\n8                  Bangsar South\n9                 Batu 11 Cheras\n10            Batu, Kuala Lumpur\n11                   Brickfields\n12                 Bukit Bintang\n13                   Bukit Jalil\n14                   Bukit Kiara\n15                   Bukit Nanas\n16                Bukit Petaling\n17                   Bukit Tunku\n18          Cheras, Kuala Lumpur\n19                      Chow Kit\n20             Damansara Heights\n21         Damansara Town Centre\n22       Damansara, Kuala Lumpur\n23                    Dang Wangi\n24                 Desa Petaling\n25    Federal Hill, Kuala Lumpur\n26                  Happy Garden\n27  Jalan Cochrane, Kuala Lumpur\n28                    Jalan Duta\n29                       Jinjang\n30    Kampung Baru, Kuala Lumpur\n31         Kampung Datuk Keramat\n32         Kampung Padang Balang\n33                        Kepong\n34                   KL Eco City\n35                   Kuchai Lama\n36                 Lembah Pantai\n37                        Maluri\n38                  Medan Tuanku\n39                       Miharja\n40                    Mont Kiara\n41                  Pantai Dalam\n42            Pudu, Kuala Lumpur\n43                     Putrajaya\n44                   Salak South\n45                      Segambut\n46                       Semarak\n47          Sentul, Kuala Lumpur\n48                       Setapak\n49                   Setiawangsa\n50                      Shamelin\n51                  Sri Hartamas\n52                  Sri Petaling\n53                   Sungai Besi\n54            Taman Bukit Maluri\n55         Taman Cheras Hartamas\n56               Taman Connaught\n57                    Taman Desa\n58                 Taman Ibukota\n59                Taman Len Seng\n60                  Taman Melati\n61                   Taman Midah\n62                     Taman OUG\n63               Taman P. Ramlee\n64               Taman Sri Sinar\n65            Taman Taynton View\n66           Taman Tun Dr Ismail\n67                 Taman U-Thant\n68                   Taman Wahyu\n69                    Titiwangsa\n70                   Wangsa Maju"
                    },
                    "execution_count": 60,
                    "metadata": {},
                    "output_type": "execute_result"
                }
            ],
            "source": "# check the neighborhoods and the coordinates\nprint(kl_df.shape)\nkl_df"
        },
        {
            "cell_type": "code",
            "execution_count": 61,
            "metadata": {},
            "outputs": [],
            "source": "# save the DataFrame as CSV file\nkl_df.to_csv(\"kl_df.csv\", index=False)"
        },
        {
            "cell_type": "code",
            "execution_count": 62,
            "metadata": {},
            "outputs": [
                {
                    "name": "stdout",
                    "output_type": "stream",
                    "text": "The geograpical coordinate of Kuala Lumpur, Malaysiae 3.1516964, 101.6942371.\n"
                }
            ],
            "source": "# get the coordinates of Kuala Lumpur\naddress = 'Kuala Lumpur, Malaysia'\n\ngeolocator = Nominatim(user_agent=\"my-application\")\nlocation = geolocator.geocode(address)\nlatitude = location.latitude\nlongitude = location.longitude\nprint('The geograpical coordinate of Kuala Lumpur, Malaysiae {}, {}.'.format(latitude, longitude))"
        },
        {
            "cell_type": "code",
            "execution_count": 87,
            "metadata": {},
            "outputs": [
                {
                    "data": {
                        "text/html": "<div style=\"width:100%;\"><div style=\"position:relative;width:100%;height:0;padding-bottom:60%;\"><iframe src=\"about:blank\" style=\"position:absolute;width:100%;height:100%;left:0;top:0;border:none !important;\" data-html=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 onload=\"this.contentDocument.open();this.contentDocument.write(atob(this.getAttribute('data-html')));this.contentDocument.close();\" allowfullscreen webkitallowfullscreen mozallowfullscreen></iframe></div></div>",
                        "text/plain": "<folium.folium.Map at 0x7f1e50c92c50>"
                    },
                    "execution_count": 87,
                    "metadata": {},
                    "output_type": "execute_result"
                }
            ],
            "source": "# create map of Toronto using latitude and longitude values\nmap_kl = folium.Map(location=[latitude, longitude], zoom_start=11)\n\n    \nmap_kl"
        },
        {
            "cell_type": "code",
            "execution_count": 88,
            "metadata": {},
            "outputs": [],
            "source": "# save the map as HTML file\nmap_kl.save('map_kl.html')"
        },
        {
            "cell_type": "code",
            "execution_count": 92,
            "metadata": {},
            "outputs": [
                {
                    "name": "stdout",
                    "output_type": "stream",
                    "text": "Your credentails:\nCLIENT_ID: JY4D0W3P4QDFHU50EPHSUPIAUG242IFDOSCH50HMRNLJGLI1\nCLIENT_SECRET:DK3NVTB4ZREU1SCC3OCNIUAXCX1OSSCAG5J5XXUL5P0YYKH4\n"
                }
            ],
            "source": "# define Foursquare Credentials and Version\nCLIENT_ID = 'JY4D0W3P4QDFHU50EPHSUPIAUG242IFDOSCH50HMRNLJGLI1' # your Foursquare ID\nCLIENT_SECRET = 'DK3NVTB4ZREU1SCC3OCNIUAXCX1OSSCAG5J5XXUL5P0YYKH4' # your Foursquare Secret\nVERSION = '20180605' # Foursquare API version\n\nprint('Your credentails:')\nprint('CLIENT_ID: ' + CLIENT_ID)\nprint('CLIENT_SECRET:' + CLIENT_SECRET)"
        },
        {
            "cell_type": "code",
            "execution_count": 97,
            "metadata": {},
            "outputs": [
                {
                    "ename": "KeyError",
                    "evalue": "'Latitude'",
                    "output_type": "error",
                    "traceback": [
                        "\u001b[0;31m---------------------------------------------------------------------------\u001b[0m",
                        "\u001b[0;31mKeyError\u001b[0m                                  Traceback (most recent call last)",
                        "\u001b[0;32m/opt/conda/envs/Python36/lib/python3.6/site-packages/pandas/core/indexes/base.py\u001b[0m in \u001b[0;36mget_loc\u001b[0;34m(self, key, method, tolerance)\u001b[0m\n\u001b[1;32m   2655\u001b[0m             \u001b[0;32mtry\u001b[0m\u001b[0;34m:\u001b[0m\u001b[0;34m\u001b[0m\u001b[0;34m\u001b[0m\u001b[0m\n\u001b[0;32m-> 2656\u001b[0;31m                 \u001b[0;32mreturn\u001b[0m \u001b[0mself\u001b[0m\u001b[0;34m.\u001b[0m\u001b[0m_engine\u001b[0m\u001b[0;34m.\u001b[0m\u001b[0mget_loc\u001b[0m\u001b[0;34m(\u001b[0m\u001b[0mkey\u001b[0m\u001b[0;34m)\u001b[0m\u001b[0;34m\u001b[0m\u001b[0;34m\u001b[0m\u001b[0m\n\u001b[0m\u001b[1;32m   2657\u001b[0m             \u001b[0;32mexcept\u001b[0m \u001b[0mKeyError\u001b[0m\u001b[0;34m:\u001b[0m\u001b[0;34m\u001b[0m\u001b[0;34m\u001b[0m\u001b[0m\n",
                        "\u001b[0;32mpandas/_libs/index.pyx\u001b[0m in \u001b[0;36mpandas._libs.index.IndexEngine.get_loc\u001b[0;34m()\u001b[0m\n",
                        "\u001b[0;32mpandas/_libs/index.pyx\u001b[0m in \u001b[0;36mpandas._libs.index.IndexEngine.get_loc\u001b[0;34m()\u001b[0m\n",
                        "\u001b[0;32mpandas/_libs/hashtable_class_helper.pxi\u001b[0m in \u001b[0;36mpandas._libs.hashtable.PyObjectHashTable.get_item\u001b[0;34m()\u001b[0m\n",
                        "\u001b[0;32mpandas/_libs/hashtable_class_helper.pxi\u001b[0m in \u001b[0;36mpandas._libs.hashtable.PyObjectHashTable.get_item\u001b[0;34m()\u001b[0m\n",
                        "\u001b[0;31mKeyError\u001b[0m: 'Latitude'",
                        "\nDuring handling of the above exception, another exception occurred:\n",
                        "\u001b[0;31mKeyError\u001b[0m                                  Traceback (most recent call last)",
                        "\u001b[0;32m<ipython-input-97-b56fe66f7ddd>\u001b[0m in \u001b[0;36m<module>\u001b[0;34m\u001b[0m\n\u001b[1;32m      5\u001b[0m \u001b[0mvenues\u001b[0m \u001b[0;34m=\u001b[0m \u001b[0;34m[\u001b[0m\u001b[0;34m]\u001b[0m\u001b[0;34m\u001b[0m\u001b[0;34m\u001b[0m\u001b[0m\n\u001b[1;32m      6\u001b[0m \u001b[0;34m\u001b[0m\u001b[0m\n\u001b[0;32m----> 7\u001b[0;31m \u001b[0;32mfor\u001b[0m \u001b[0mlat\u001b[0m\u001b[0;34m,\u001b[0m \u001b[0mlong\u001b[0m\u001b[0;34m,\u001b[0m \u001b[0mneighborhood\u001b[0m \u001b[0;32min\u001b[0m \u001b[0mzip\u001b[0m\u001b[0;34m(\u001b[0m\u001b[0mkl_df\u001b[0m\u001b[0;34m[\u001b[0m\u001b[0;34m'Latitude'\u001b[0m\u001b[0;34m]\u001b[0m\u001b[0;34m,\u001b[0m \u001b[0mkl_df\u001b[0m\u001b[0;34m[\u001b[0m\u001b[0;34m'Longitude'\u001b[0m\u001b[0;34m]\u001b[0m\u001b[0;34m,\u001b[0m \u001b[0mkl_df\u001b[0m\u001b[0;34m[\u001b[0m\u001b[0;34m'Neighborhood'\u001b[0m\u001b[0;34m]\u001b[0m\u001b[0;34m)\u001b[0m\u001b[0;34m:\u001b[0m\u001b[0;34m\u001b[0m\u001b[0;34m\u001b[0m\u001b[0m\n\u001b[0m\u001b[1;32m      8\u001b[0m \u001b[0;34m\u001b[0m\u001b[0m\n\u001b[1;32m      9\u001b[0m     \u001b[0;31m# create the API request URL\u001b[0m\u001b[0;34m\u001b[0m\u001b[0;34m\u001b[0m\u001b[0;34m\u001b[0m\u001b[0m\n",
                        "\u001b[0;32m/opt/conda/envs/Python36/lib/python3.6/site-packages/pandas/core/frame.py\u001b[0m in \u001b[0;36m__getitem__\u001b[0;34m(self, key)\u001b[0m\n\u001b[1;32m   2925\u001b[0m             \u001b[0;32mif\u001b[0m \u001b[0mself\u001b[0m\u001b[0;34m.\u001b[0m\u001b[0mcolumns\u001b[0m\u001b[0;34m.\u001b[0m\u001b[0mnlevels\u001b[0m \u001b[0;34m>\u001b[0m \u001b[0;36m1\u001b[0m\u001b[0;34m:\u001b[0m\u001b[0;34m\u001b[0m\u001b[0;34m\u001b[0m\u001b[0m\n\u001b[1;32m   2926\u001b[0m                 \u001b[0;32mreturn\u001b[0m \u001b[0mself\u001b[0m\u001b[0;34m.\u001b[0m\u001b[0m_getitem_multilevel\u001b[0m\u001b[0;34m(\u001b[0m\u001b[0mkey\u001b[0m\u001b[0;34m)\u001b[0m\u001b[0;34m\u001b[0m\u001b[0;34m\u001b[0m\u001b[0m\n\u001b[0;32m-> 2927\u001b[0;31m             \u001b[0mindexer\u001b[0m \u001b[0;34m=\u001b[0m \u001b[0mself\u001b[0m\u001b[0;34m.\u001b[0m\u001b[0mcolumns\u001b[0m\u001b[0;34m.\u001b[0m\u001b[0mget_loc\u001b[0m\u001b[0;34m(\u001b[0m\u001b[0mkey\u001b[0m\u001b[0;34m)\u001b[0m\u001b[0;34m\u001b[0m\u001b[0;34m\u001b[0m\u001b[0m\n\u001b[0m\u001b[1;32m   2928\u001b[0m             \u001b[0;32mif\u001b[0m \u001b[0mis_integer\u001b[0m\u001b[0;34m(\u001b[0m\u001b[0mindexer\u001b[0m\u001b[0;34m)\u001b[0m\u001b[0;34m:\u001b[0m\u001b[0;34m\u001b[0m\u001b[0;34m\u001b[0m\u001b[0m\n\u001b[1;32m   2929\u001b[0m                 \u001b[0mindexer\u001b[0m \u001b[0;34m=\u001b[0m \u001b[0;34m[\u001b[0m\u001b[0mindexer\u001b[0m\u001b[0;34m]\u001b[0m\u001b[0;34m\u001b[0m\u001b[0;34m\u001b[0m\u001b[0m\n",
                        "\u001b[0;32m/opt/conda/envs/Python36/lib/python3.6/site-packages/pandas/core/indexes/base.py\u001b[0m in \u001b[0;36mget_loc\u001b[0;34m(self, key, method, tolerance)\u001b[0m\n\u001b[1;32m   2656\u001b[0m                 \u001b[0;32mreturn\u001b[0m \u001b[0mself\u001b[0m\u001b[0;34m.\u001b[0m\u001b[0m_engine\u001b[0m\u001b[0;34m.\u001b[0m\u001b[0mget_loc\u001b[0m\u001b[0;34m(\u001b[0m\u001b[0mkey\u001b[0m\u001b[0;34m)\u001b[0m\u001b[0;34m\u001b[0m\u001b[0;34m\u001b[0m\u001b[0m\n\u001b[1;32m   2657\u001b[0m             \u001b[0;32mexcept\u001b[0m \u001b[0mKeyError\u001b[0m\u001b[0;34m:\u001b[0m\u001b[0;34m\u001b[0m\u001b[0;34m\u001b[0m\u001b[0m\n\u001b[0;32m-> 2658\u001b[0;31m                 \u001b[0;32mreturn\u001b[0m \u001b[0mself\u001b[0m\u001b[0;34m.\u001b[0m\u001b[0m_engine\u001b[0m\u001b[0;34m.\u001b[0m\u001b[0mget_loc\u001b[0m\u001b[0;34m(\u001b[0m\u001b[0mself\u001b[0m\u001b[0;34m.\u001b[0m\u001b[0m_maybe_cast_indexer\u001b[0m\u001b[0;34m(\u001b[0m\u001b[0mkey\u001b[0m\u001b[0;34m)\u001b[0m\u001b[0;34m)\u001b[0m\u001b[0;34m\u001b[0m\u001b[0;34m\u001b[0m\u001b[0m\n\u001b[0m\u001b[1;32m   2659\u001b[0m         \u001b[0mindexer\u001b[0m \u001b[0;34m=\u001b[0m \u001b[0mself\u001b[0m\u001b[0;34m.\u001b[0m\u001b[0mget_indexer\u001b[0m\u001b[0;34m(\u001b[0m\u001b[0;34m[\u001b[0m\u001b[0mkey\u001b[0m\u001b[0;34m]\u001b[0m\u001b[0;34m,\u001b[0m \u001b[0mmethod\u001b[0m\u001b[0;34m=\u001b[0m\u001b[0mmethod\u001b[0m\u001b[0;34m,\u001b[0m \u001b[0mtolerance\u001b[0m\u001b[0;34m=\u001b[0m\u001b[0mtolerance\u001b[0m\u001b[0;34m)\u001b[0m\u001b[0;34m\u001b[0m\u001b[0;34m\u001b[0m\u001b[0m\n\u001b[1;32m   2660\u001b[0m         \u001b[0;32mif\u001b[0m \u001b[0mindexer\u001b[0m\u001b[0;34m.\u001b[0m\u001b[0mndim\u001b[0m \u001b[0;34m>\u001b[0m \u001b[0;36m1\u001b[0m \u001b[0;32mor\u001b[0m \u001b[0mindexer\u001b[0m\u001b[0;34m.\u001b[0m\u001b[0msize\u001b[0m \u001b[0;34m>\u001b[0m \u001b[0;36m1\u001b[0m\u001b[0;34m:\u001b[0m\u001b[0;34m\u001b[0m\u001b[0;34m\u001b[0m\u001b[0m\n",
                        "\u001b[0;32mpandas/_libs/index.pyx\u001b[0m in \u001b[0;36mpandas._libs.index.IndexEngine.get_loc\u001b[0;34m()\u001b[0m\n",
                        "\u001b[0;32mpandas/_libs/index.pyx\u001b[0m in \u001b[0;36mpandas._libs.index.IndexEngine.get_loc\u001b[0;34m()\u001b[0m\n",
                        "\u001b[0;32mpandas/_libs/hashtable_class_helper.pxi\u001b[0m in \u001b[0;36mpandas._libs.hashtable.PyObjectHashTable.get_item\u001b[0;34m()\u001b[0m\n",
                        "\u001b[0;32mpandas/_libs/hashtable_class_helper.pxi\u001b[0m in \u001b[0;36mpandas._libs.hashtable.PyObjectHashTable.get_item\u001b[0;34m()\u001b[0m\n",
                        "\u001b[0;31mKeyError\u001b[0m: 'Latitude'"
                    ]
                }
            ],
            "source": "# Now, let's get the top 100 venues that are within a radius of 2000 meters.\nradius = 2000\nLIMIT = 100\n\nvenues = []\n\nfor lat, long, neighborhood in zip(kl_df['Latitude'], kl_df['Longitude'], kl_df['Neighborhood']):\n    \n    # create the API request URL\n    url = \"https://api.foursquare.com/v2/venues/explore?client_id={}&client_secret={}&v={}&ll={},{}&radius={}&limit={}\".format(\n        CLIENT_ID,\n        CLIENT_SECRET,\n        VERSION,\n        lat,\n        long,\n        radius, \n        LIMIT)\n    \n    # make the GET request\n    results = requests.get(url).json()[\"response\"]['groups'][0]['items']\n    \n    # return only relevant information for each nearby venue\n    for venue in results:\n        venues.append((\n            neighborhood,\n            lat, \n            long, \n            venue['venue']['name'], \n            venue['venue']['location']['lat'], \n            venue['venue']['location']['lng'],  \n            venue['venue']['categories'][0]['name']))"
        },
        {
            "cell_type": "code",
            "execution_count": null,
            "metadata": {},
            "outputs": [],
            "source": "# convert the venues list into a new DataFrame\nvenues_df = pd.DataFrame(venues)\n\n# define the column names\nvenues_df.columns = ['Neighborhood', 'Latitude', 'Longitude', 'VenueName', 'VenueLatitude', 'VenueLongitude', 'VenueCategory']\n\nprint(venues_df.shape)\nvenues_df.head()"
        },
        {
            "cell_type": "code",
            "execution_count": null,
            "metadata": {},
            "outputs": [],
            "source": "# Now we will check how many venues were returned for each neighorhood\n\nvenues_df.groupby([\"Neighborhood\"]).count()\n"
        },
        {
            "cell_type": "code",
            "execution_count": null,
            "metadata": {},
            "outputs": [],
            "source": "# How many unique categories can be curated from all the returned venues\n\nprint('There are {} uniques categories.'.format(len(venues_df['VenueCategory'].unique())))\n"
        },
        {
            "cell_type": "code",
            "execution_count": null,
            "metadata": {},
            "outputs": [],
            "source": "\n# print out the list of categories\nvenues_df['VenueCategory'].unique()[:50]"
        },
        {
            "cell_type": "code",
            "execution_count": null,
            "metadata": {},
            "outputs": [],
            "source": "# check if the results contain \"Shopping Mall\"\n\"Neighborhood\" in venues_df['VenueCategory'].unique()"
        },
        {
            "cell_type": "code",
            "execution_count": null,
            "metadata": {},
            "outputs": [],
            "source": "#6. Analyze Each Neighborhood\n# one hot encoding\nkl_onehot = pd.get_dummies(venues_df[['VenueCategory']], prefix=\"\", prefix_sep=\"\")\n\n# add neighborhood column back to dataframe\nkl_onehot['Neighborhoods'] = venues_df['Neighborhood'] \n\n# move neighborhood column to the first column\nfixed_columns = [kl_onehot.columns[-1]] + list(kl_onehot.columns[:-1])\nkl_onehot = kl_onehot[fixed_columns]\n\nprint(kl_onehot.shape)\nkl_onehot.head()"
        },
        {
            "cell_type": "code",
            "execution_count": null,
            "metadata": {},
            "outputs": [],
            "source": "# Next, let's group rows by neighborhood and by taking the mean of the frequency of occurrence of each category\n\n\nkl_grouped = kl_onehot.groupby([\"Neighborhoods\"]).mean().reset_index()\n\nprint(kl_grouped.shape)\nkl_grouped"
        },
        {
            "cell_type": "code",
            "execution_count": 45,
            "metadata": {},
            "outputs": [
                {
                    "ename": "NameError",
                    "evalue": "name 'kl_grouped' is not defined",
                    "output_type": "error",
                    "traceback": [
                        "\u001b[0;31m---------------------------------------------------------------------------\u001b[0m",
                        "\u001b[0;31mNameError\u001b[0m                                 Traceback (most recent call last)",
                        "\u001b[0;32m<ipython-input-45-a23782d6f127>\u001b[0m in \u001b[0;36m<module>\u001b[0;34m\u001b[0m\n\u001b[0;32m----> 1\u001b[0;31m \u001b[0mlen\u001b[0m\u001b[0;34m(\u001b[0m\u001b[0mkl_grouped\u001b[0m\u001b[0;34m[\u001b[0m\u001b[0mkl_grouped\u001b[0m\u001b[0;34m[\u001b[0m\u001b[0;34m\"Shopping Mall\"\u001b[0m\u001b[0;34m]\u001b[0m \u001b[0;34m>\u001b[0m \u001b[0;36m0\u001b[0m\u001b[0;34m]\u001b[0m\u001b[0;34m)\u001b[0m\u001b[0;34m\u001b[0m\u001b[0;34m\u001b[0m\u001b[0m\n\u001b[0m",
                        "\u001b[0;31mNameError\u001b[0m: name 'kl_grouped' is not defined"
                    ]
                }
            ],
            "source": "len(kl_grouped[kl_grouped[\"Shopping Mall\"] > 0])"
        },
        {
            "cell_type": "code",
            "execution_count": 46,
            "metadata": {},
            "outputs": [
                {
                    "ename": "NameError",
                    "evalue": "name 'kl_grouped' is not defined",
                    "output_type": "error",
                    "traceback": [
                        "\u001b[0;31m---------------------------------------------------------------------------\u001b[0m",
                        "\u001b[0;31mNameError\u001b[0m                                 Traceback (most recent call last)",
                        "\u001b[0;32m<ipython-input-46-f95b056ead15>\u001b[0m in \u001b[0;36m<module>\u001b[0;34m\u001b[0m\n\u001b[1;32m      1\u001b[0m \u001b[0;31m#Create a new DataFrame for Shopping Mall data only\u001b[0m\u001b[0;34m\u001b[0m\u001b[0;34m\u001b[0m\u001b[0;34m\u001b[0m\u001b[0m\n\u001b[0;32m----> 2\u001b[0;31m \u001b[0mkl_mall\u001b[0m \u001b[0;34m=\u001b[0m \u001b[0mkl_grouped\u001b[0m\u001b[0;34m[\u001b[0m\u001b[0;34m[\u001b[0m\u001b[0;34m\"Neighborhoods\"\u001b[0m\u001b[0;34m,\u001b[0m\u001b[0;34m\"Shopping Mall\"\u001b[0m\u001b[0;34m]\u001b[0m\u001b[0;34m]\u001b[0m\u001b[0;34m\u001b[0m\u001b[0;34m\u001b[0m\u001b[0m\n\u001b[0m",
                        "\u001b[0;31mNameError\u001b[0m: name 'kl_grouped' is not defined"
                    ]
                }
            ],
            "source": "#Create a new DataFrame for Shopping Mall data only\nkl_mall = kl_grouped[[\"Neighborhoods\",\"Shopping Mall\"]]"
        },
        {
            "cell_type": "code",
            "execution_count": 47,
            "metadata": {},
            "outputs": [
                {
                    "ename": "NameError",
                    "evalue": "name 'kl_mall' is not defined",
                    "output_type": "error",
                    "traceback": [
                        "\u001b[0;31m---------------------------------------------------------------------------\u001b[0m",
                        "\u001b[0;31mNameError\u001b[0m                                 Traceback (most recent call last)",
                        "\u001b[0;32m<ipython-input-47-21187708717a>\u001b[0m in \u001b[0;36m<module>\u001b[0;34m\u001b[0m\n\u001b[0;32m----> 1\u001b[0;31m \u001b[0mkl_mall\u001b[0m\u001b[0;34m.\u001b[0m\u001b[0mhead\u001b[0m\u001b[0;34m(\u001b[0m\u001b[0;34m)\u001b[0m\u001b[0;34m\u001b[0m\u001b[0;34m\u001b[0m\u001b[0m\n\u001b[0m",
                        "\u001b[0;31mNameError\u001b[0m: name 'kl_mall' is not defined"
                    ]
                }
            ],
            "source": "kl_mall.head()"
        },
        {
            "cell_type": "code",
            "execution_count": 48,
            "metadata": {},
            "outputs": [
                {
                    "ename": "NameError",
                    "evalue": "name 'kl_mall' is not defined",
                    "output_type": "error",
                    "traceback": [
                        "\u001b[0;31m---------------------------------------------------------------------------\u001b[0m",
                        "\u001b[0;31mNameError\u001b[0m                                 Traceback (most recent call last)",
                        "\u001b[0;32m<ipython-input-48-b571e682b108>\u001b[0m in \u001b[0;36m<module>\u001b[0;34m\u001b[0m\n\u001b[1;32m      5\u001b[0m \u001b[0mkclusters\u001b[0m \u001b[0;34m=\u001b[0m \u001b[0;36m3\u001b[0m\u001b[0;34m\u001b[0m\u001b[0;34m\u001b[0m\u001b[0m\n\u001b[1;32m      6\u001b[0m \u001b[0;34m\u001b[0m\u001b[0m\n\u001b[0;32m----> 7\u001b[0;31m \u001b[0mkl_clustering\u001b[0m \u001b[0;34m=\u001b[0m \u001b[0mkl_mall\u001b[0m\u001b[0;34m.\u001b[0m\u001b[0mdrop\u001b[0m\u001b[0;34m(\u001b[0m\u001b[0;34m[\u001b[0m\u001b[0;34m\"Neighborhoods\"\u001b[0m\u001b[0;34m]\u001b[0m\u001b[0;34m,\u001b[0m \u001b[0;36m1\u001b[0m\u001b[0;34m)\u001b[0m\u001b[0;34m\u001b[0m\u001b[0;34m\u001b[0m\u001b[0m\n\u001b[0m\u001b[1;32m      8\u001b[0m \u001b[0;34m\u001b[0m\u001b[0m\n\u001b[1;32m      9\u001b[0m \u001b[0;31m# run k-means clustering\u001b[0m\u001b[0;34m\u001b[0m\u001b[0;34m\u001b[0m\u001b[0;34m\u001b[0m\u001b[0m\n",
                        "\u001b[0;31mNameError\u001b[0m: name 'kl_mall' is not defined"
                    ]
                }
            ],
            "source": "#7. Cluster Neighborhoods\n# Run k-means to cluster the neighborhoods in Kuala Lumpur into 3 clusters.\n# set number of clusters\n\nkclusters = 3\n\nkl_clustering = kl_mall.drop([\"Neighborhoods\"], 1)\n\n# run k-means clustering\nkmeans = KMeans(n_clusters=kclusters, random_state=0).fit(kl_clustering)\n\n# check cluster labels generated for each row in the dataframe\nkmeans.labels_[0:10]"
        },
        {
            "cell_type": "code",
            "execution_count": null,
            "metadata": {},
            "outputs": [],
            "source": "# create a new dataframe that includes the cluster as well as the top 10 venues for each neighborhood.\nkl_merged = kl_mall.copy()\n\n# add clustering labels\nkl_merged[\"Cluster Labels\"] = kmeans.labels_"
        },
        {
            "cell_type": "code",
            "execution_count": null,
            "metadata": {},
            "outputs": [],
            "source": "kl_merged.rename(columns={\"Neighborhoods\": \"Neighborhood\"}, inplace=True)\nkl_merged.head()"
        },
        {
            "cell_type": "code",
            "execution_count": null,
            "metadata": {},
            "outputs": [],
            "source": "# merge toronto_grouped with toronto_data to add latitude/longitude for each neighborhood\nkl_merged = kl_merged.join(kl_df.set_index(\"Neighborhood\"), on=\"Neighborhood\")\n\nprint(kl_merged.shape)\nkl_merged.head() # check the last columns!"
        },
        {
            "cell_type": "code",
            "execution_count": null,
            "metadata": {},
            "outputs": [],
            "source": "# sort the results by Cluster Labels\nprint(kl_merged.shape)\nkl_merged.sort_values([\"Cluster Labels\"], inplace=True)\nkl_merged"
        },
        {
            "cell_type": "code",
            "execution_count": null,
            "metadata": {},
            "outputs": [],
            "source": "# create map\n# Finally, let's visualize the resulting clusters\n\nmap_clusters = folium.Map(location=[latitude, longitude], zoom_start=11)\n\n# set color scheme for the clusters\nx = np.arange(kclusters)\nys = [i+x+(i*x)**2 for i in range(kclusters)]\ncolors_array = cm.rainbow(np.linspace(0, 1, len(ys)))\nrainbow = [colors.rgb2hex(i) for i in colors_array]\n\n# add markers to the map\nmarkers_colors = []\nfor lat, lon, poi, cluster in zip(kl_merged['Latitude'], kl_merged['Longitude'], kl_merged['Neighborhood'], kl_merged['Cluster Labels']):\n    label = folium.Popup(str(poi) + ' - Cluster ' + str(cluster), parse_html=True)\n    folium.CircleMarker(\n        [lat, lon],\n        radius=5,\n        popup=label,\n        color=rainbow[cluster-1],\n        fill=True,\n        fill_color=rainbow[cluster-1],\n        fill_opacity=0.7).add_to(map_clusters)\n       \nmap_clusters"
        },
        {
            "cell_type": "code",
            "execution_count": null,
            "metadata": {},
            "outputs": [],
            "source": "# save the map as HTML file\nmap_clusters.save('map_clusters.html')"
        },
        {
            "cell_type": "code",
            "execution_count": null,
            "metadata": {},
            "outputs": [],
            "source": "#8. Examine Clusters\nkl_merged.loc[kl_merged['Cluster Labels'] == 0]"
        },
        {
            "cell_type": "code",
            "execution_count": null,
            "metadata": {},
            "outputs": [],
            "source": "#Cluster 1\nkl_merged.loc[kl_merged['Cluster Labels'] == 1]"
        },
        {
            "cell_type": "code",
            "execution_count": null,
            "metadata": {},
            "outputs": [],
            "source": "##Cluster 2\nkl_merged.loc[kl_merged['Cluster Labels'] == 2]"
        },
        {
            "cell_type": "code",
            "execution_count": null,
            "metadata": {},
            "outputs": [],
            "source": ""
        }
    ],
    "metadata": {
        "kernelspec": {
            "display_name": "Python 3.6",
            "language": "python",
            "name": "python3"
        },
        "language_info": {
            "codemirror_mode": {
                "name": "ipython",
                "version": 3
            },
            "file_extension": ".py",
            "mimetype": "text/x-python",
            "name": "python",
            "nbconvert_exporter": "python",
            "pygments_lexer": "ipython3",
            "version": "3.6.9"
        }
    },
    "nbformat": 4,
    "nbformat_minor": 1
}